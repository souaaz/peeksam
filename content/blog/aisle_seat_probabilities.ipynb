{
 "cells": [
  {
   "cell_type": "markdown",
   "metadata": {},
   "source": [
    "Title: What Is The Probability An Economy Class Seat Is An Aisle Seat?\n",
    "Slug: aisle_seat_probabilities\n",
    "Summary: What Is The Probability An Economy Class Seat Is An Aisle Seat?\n",
    "Date: 2016-05-01 12:00\n",
    "Category: Blog\n",
    "Tags:\n",
    "Authors: Samira Ouaaz"
   ]
  },
  {
   "cell_type": "markdown",
   "metadata": {},
   "source": [
    "There are two types of people in the world, aisle seaters and window seaters. I am an aisle seater, nothing is worse than limited bathroom access on a long flight. The first thing I do when I get my ticket is check to see if I have a window seat. If not, I immediately head over to the airline counter and try to get one.\n",
    "\n",
    "Last flight, on Turkish Airlines, I ran into a curious situation. I recieved my boarding pass with my seat number, 18C, but the ticket did not specify if C was an aisle seat or not. Making matters worse, the airline counter was swamped with a few dozen people. So I asked myself: **given only the seat letter, C, what is the probability that it is an aisle seat?**\n",
    "\n",
    "Later, on the flight, I decided to find out."
   ]
  },
  {
   "cell_type": "markdown",
   "metadata": {},
   "source": [
    "## Preliminaries"
   ]
  },
  {
   "cell_type": "code",
   "execution_count": 1,
   "metadata": {
    "collapsed": false
   },
   "outputs": [],
   "source": [
    "# Import required modules\n",
    "import pandas as pd\n",
    "import numpy as np\n",
    "\n",
    "# Set plots to display in the iPython notebook\n",
    "%matplotlib inline"
   ]
  },
  {
   "cell_type": "markdown",
   "metadata": {},
   "source": [
    "## Setup possible seat configurations"
   ]
  },
  {
   "cell_type": "markdown",
   "metadata": {},
   "source": [
    "I am a pretty frequently flyer on a variety of airlines and aircraft. There are a variety of seating configurations out there, but typically they follow some basic rules:\n",
    "\n",
    "- No window cluster of seats has more than three seats.\n",
    "- On small slights with three seats, the single seat is on the left side.\n",
    "- No flight has more than nine rows.\n",
    "\n",
    "Based on these rules, here are the \"typical\" seating configurations from aircraft with between two and nine seats per row. A '1' codifies that a seat is an aisle seat, a '0' codifies that it is a non-aisle seat (i.e. window or middle), and 'np.nan' denotes that the aircraft has less than nine seats (this is so all the list lengths are the same). "
   ]
  },
  {
   "cell_type": "code",
   "execution_count": 2,
   "metadata": {
    "collapsed": false
   },
   "outputs": [],
   "source": [
    "# An aircraft with two seats per row\n",
    "rows2 = [1,1, np.nan, np.nan, np.nan, np.nan, np.nan, np.nan, np.nan]\n",
    "\n",
    "# An aircraft with three seats per row\n",
    "rows3 = [1,1,0, np.nan, np.nan, np.nan, np.nan, np.nan, np.nan,]\n",
    "\n",
    "# An aircraft with four seats per row\n",
    "rows4 = [0,1,1,0, np.nan, np.nan, np.nan, np.nan, np.nan]\n",
    "\n",
    "# An aircraft with five seats per row\n",
    "rows5 = [0,1,1,0,0, np.nan, np.nan,np.nan, np.nan]\n",
    "\n",
    "# An aircraft with six seats per row\n",
    "rows6 = [0,1,1,0,1,0, np.nan, np.nan, np.nan]\n",
    "\n",
    "# An aircraft with seven seats per row\n",
    "rows7 = [0,1,1,0,1,1,0, np.nan, np.nan]\n",
    "\n",
    "# An aircraft with eight seats per row\n",
    "rows8 = [0,0,1,1,1,1,0,0, np.nan]\n",
    "\n",
    "# An aircraft with nine seats per row\n",
    "rows9 = [0,0,1,1,0,1,1,0,0]"
   ]
  },
  {
   "cell_type": "markdown",
   "metadata": {},
   "source": [
    "For example, in an aircraft with five seats per row, `rows5`, the seating arrangement would be:\n",
    "\n",
    "1. window\n",
    "2. aisle\n",
    "3. aisle\n",
    "4. middle\n",
    "5. window\n",
    "6. no seat\n",
    "7. no seat\n",
    "8. no seat\n",
    "9. no seat"
   ]
  },
  {
   "cell_type": "markdown",
   "metadata": {},
   "source": [
    "Next, I'm take advantage of pandas row summation options, but to do this I need to wrangle the data into a pandas dataframe. Essentially I am using the pandas dataframe as a matrix."
   ]
  },
  {
   "cell_type": "code",
   "execution_count": 3,
   "metadata": {
    "collapsed": false
   },
   "outputs": [],
   "source": [
    "# Create a list variable of all possible aircraft configurations\n",
    "seating_map = [rows2, rows3, rows4, rows5, rows6, rows7, rows8, rows9]"
   ]
  },
  {
   "cell_type": "code",
   "execution_count": 4,
   "metadata": {
    "collapsed": false
   },
   "outputs": [],
   "source": [
    "# Create a dataframe from the seating_map variable\n",
    "df = pd.DataFrame(seating_map, \n",
    "                  columns=['A', 'B', 'C', 'D', 'E', 'F', 'G', 'H', 'I'],\n",
    "                  index=['rows2', 'rows3', 'rows4', 'rows5', 'rows6', 'rows7', 'rows8', 'rows9'])"
   ]
  },
  {
   "cell_type": "markdown",
   "metadata": {},
   "source": [
    "Here is all the data we need to construct our probabilities. The columns represent individual seat letters (A, B, etc.) while the rows represent the number of seats-per-row in the aircraft."
   ]
  },
  {
   "cell_type": "code",
   "execution_count": 5,
   "metadata": {
    "collapsed": false
   },
   "outputs": [
    {
     "data": {
      "text/html": [
       "<div style=\"max-height:1000px;max-width:1500px;overflow:auto;\">\n",
       "<table border=\"1\" class=\"dataframe\">\n",
       "  <thead>\n",
       "    <tr style=\"text-align: right;\">\n",
       "      <th></th>\n",
       "      <th>A</th>\n",
       "      <th>B</th>\n",
       "      <th>C</th>\n",
       "      <th>D</th>\n",
       "      <th>E</th>\n",
       "      <th>F</th>\n",
       "      <th>G</th>\n",
       "      <th>H</th>\n",
       "      <th>I</th>\n",
       "    </tr>\n",
       "  </thead>\n",
       "  <tbody>\n",
       "    <tr>\n",
       "      <th>rows2</th>\n",
       "      <td> 1</td>\n",
       "      <td> 1</td>\n",
       "      <td>NaN</td>\n",
       "      <td>NaN</td>\n",
       "      <td>NaN</td>\n",
       "      <td>NaN</td>\n",
       "      <td>NaN</td>\n",
       "      <td>NaN</td>\n",
       "      <td>NaN</td>\n",
       "    </tr>\n",
       "    <tr>\n",
       "      <th>rows3</th>\n",
       "      <td> 1</td>\n",
       "      <td> 1</td>\n",
       "      <td>  0</td>\n",
       "      <td>NaN</td>\n",
       "      <td>NaN</td>\n",
       "      <td>NaN</td>\n",
       "      <td>NaN</td>\n",
       "      <td>NaN</td>\n",
       "      <td>NaN</td>\n",
       "    </tr>\n",
       "    <tr>\n",
       "      <th>rows4</th>\n",
       "      <td> 0</td>\n",
       "      <td> 1</td>\n",
       "      <td>  1</td>\n",
       "      <td>  0</td>\n",
       "      <td>NaN</td>\n",
       "      <td>NaN</td>\n",
       "      <td>NaN</td>\n",
       "      <td>NaN</td>\n",
       "      <td>NaN</td>\n",
       "    </tr>\n",
       "    <tr>\n",
       "      <th>rows5</th>\n",
       "      <td> 0</td>\n",
       "      <td> 1</td>\n",
       "      <td>  1</td>\n",
       "      <td>  0</td>\n",
       "      <td>  0</td>\n",
       "      <td>NaN</td>\n",
       "      <td>NaN</td>\n",
       "      <td>NaN</td>\n",
       "      <td>NaN</td>\n",
       "    </tr>\n",
       "    <tr>\n",
       "      <th>rows6</th>\n",
       "      <td> 0</td>\n",
       "      <td> 1</td>\n",
       "      <td>  1</td>\n",
       "      <td>  0</td>\n",
       "      <td>  1</td>\n",
       "      <td>  0</td>\n",
       "      <td>NaN</td>\n",
       "      <td>NaN</td>\n",
       "      <td>NaN</td>\n",
       "    </tr>\n",
       "    <tr>\n",
       "      <th>rows7</th>\n",
       "      <td> 0</td>\n",
       "      <td> 1</td>\n",
       "      <td>  1</td>\n",
       "      <td>  0</td>\n",
       "      <td>  1</td>\n",
       "      <td>  1</td>\n",
       "      <td>  0</td>\n",
       "      <td>NaN</td>\n",
       "      <td>NaN</td>\n",
       "    </tr>\n",
       "    <tr>\n",
       "      <th>rows8</th>\n",
       "      <td> 0</td>\n",
       "      <td> 0</td>\n",
       "      <td>  1</td>\n",
       "      <td>  1</td>\n",
       "      <td>  1</td>\n",
       "      <td>  1</td>\n",
       "      <td>  0</td>\n",
       "      <td>  0</td>\n",
       "      <td>NaN</td>\n",
       "    </tr>\n",
       "    <tr>\n",
       "      <th>rows9</th>\n",
       "      <td> 0</td>\n",
       "      <td> 0</td>\n",
       "      <td>  1</td>\n",
       "      <td>  1</td>\n",
       "      <td>  0</td>\n",
       "      <td>  1</td>\n",
       "      <td>  1</td>\n",
       "      <td>  0</td>\n",
       "      <td>  0</td>\n",
       "    </tr>\n",
       "  </tbody>\n",
       "</table>\n",
       "</div>"
      ],
      "text/plain": [
       "       A  B   C   D   E   F   G   H   I\n",
       "rows2  1  1 NaN NaN NaN NaN NaN NaN NaN\n",
       "rows3  1  1   0 NaN NaN NaN NaN NaN NaN\n",
       "rows4  0  1   1   0 NaN NaN NaN NaN NaN\n",
       "rows5  0  1   1   0   0 NaN NaN NaN NaN\n",
       "rows6  0  1   1   0   1   0 NaN NaN NaN\n",
       "rows7  0  1   1   0   1   1   0 NaN NaN\n",
       "rows8  0  0   1   1   1   1   0   0 NaN\n",
       "rows9  0  0   1   1   0   1   1   0   0"
      ]
     },
     "execution_count": 5,
     "metadata": {},
     "output_type": "execute_result"
    }
   ],
   "source": [
    "# View the dataframe\n",
    "df"
   ]
  },
  {
   "cell_type": "markdown",
   "metadata": {},
   "source": [
    "## Calculate aisle probability\n",
    "\n",
    "Because each aircraft seats-per-row configuration (i.e. row) is binary (1 if aisle, 0 if non-aisle), the probability that a seat is an aisle is simply the mean value of each seat letter (i.e. column)."
   ]
  },
  {
   "cell_type": "code",
   "execution_count": 6,
   "metadata": {
    "collapsed": false
   },
   "outputs": [],
   "source": [
    "# Create a list wherein each element is the mean value of a column\n",
    "aisle_probability = [df['A'].mean(), \n",
    "                     df['B'].mean(),\n",
    "                     df['C'].mean(),\n",
    "                     df['D'].mean(),\n",
    "                     df['E'].mean(),\n",
    "                     df['F'].mean(),\n",
    "                     df['G'].mean(),\n",
    "                     df['H'].mean(),\n",
    "                     df['I'].mean()]"
   ]
  },
  {
   "cell_type": "code",
   "execution_count": 7,
   "metadata": {
    "collapsed": false
   },
   "outputs": [
    {
     "data": {
      "text/plain": [
       "[0.25,\n",
       " 0.75,\n",
       " 0.8571428571428571,\n",
       " 0.33333333333333331,\n",
       " 0.59999999999999998,\n",
       " 0.75,\n",
       " 0.33333333333333331,\n",
       " 0.0,\n",
       " 0.0]"
      ]
     },
     "execution_count": 7,
     "metadata": {},
     "output_type": "execute_result"
    }
   ],
   "source": [
    "# Display the variable\n",
    "aisle_probability"
   ]
  },
  {
   "cell_type": "markdown",
   "metadata": {},
   "source": [
    "So there you have it, the probability that each seat letter is an aisle. However, we can make the presentation a little more intituative."
   ]
  },
  {
   "cell_type": "markdown",
   "metadata": {},
   "source": [
    "## Visualize seat letter probabilities"
   ]
  },
  {
   "cell_type": "markdown",
   "metadata": {},
   "source": [
    "The most obvious visualization to convey the probabilities would be seat letters on the x-axis and probabilities on the y-axis. Panda's plot function makes that easy."
   ]
  },
  {
   "cell_type": "code",
   "execution_count": 10,
   "metadata": {
    "collapsed": false
   },
   "outputs": [],
   "source": [
    "# Create a list of strings to use as the x-axis labels\n",
    "seats = ['Seat A', 'Seat B', 'Seat C', 'Seat D', \n",
    "         'Seat E', 'Seat F', 'Seat G', 'Seat H', 'Seat I']"
   ]
  },
  {
   "cell_type": "code",
   "execution_count": 11,
   "metadata": {
    "collapsed": false
   },
   "outputs": [
    {
     "data": {
      "text/plain": [
       "<matplotlib.axes._subplots.AxesSubplot at 0x1078300f0>"
      ]
     },
     "execution_count": 11,
     "metadata": {},
     "output_type": "execute_result"
    },
    {
     "data": {
      "image/png": "[encoded data removed]",
      "text/plain": [
       "<matplotlib.figure.Figure at 0x1078282e8>"
      ]
     },
     "metadata": {},
     "output_type": "display_data"
    }
   ],
   "source": [
    "# Plot the probabilities, using 'seats' as the index as a bar chart\n",
    "pd.Series(aisle_probability, index=seats).plot(kind='bar', # set y to range between 0 and 1\n",
    "                                                    ylim=[0,1],\n",
    "                                                    # set the figure size\n",
    "                                                    figsize=[10,6],\n",
    "                                                    # set the figure title\n",
    "                                                    title='Probabilty of being an Aisle Seat in Economy Class')"
   ]
  },
  {
   "cell_type": "markdown",
   "metadata": {},
   "source": [
    "So there we have it! If given a boarding pass with seat C you have a 86% probability of being in an aisle seat!\n",
    "\n",
    "I hope this was helpful!"
   ]
  }
 ],
 "metadata": {
  "kernelspec": {
   "display_name": "Python 3",
   "language": "python",
   "name": "python3"
  },
  "language_info": {
   "codemirror_mode": {
    "name": "ipython",
    "version": 3
   },
   "file_extension": ".py",
   "mimetype": "text/x-python",
   "name": "python",
   "nbconvert_exporter": "python",
   "pygments_lexer": "ipython3",
   "version": "3.5.1"
  }
 },
 "nbformat": 4,
 "nbformat_minor": 0
}
